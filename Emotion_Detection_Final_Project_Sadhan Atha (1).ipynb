{
  "nbformat": 4,
  "nbformat_minor": 0,
  "metadata": {
    "colab": {
      "provenance": [],
      "gpuType": "T4"
    },
    "kernelspec": {
      "name": "python3",
      "display_name": "Python 3"
    },
    "language_info": {
      "name": "python"
    },
    "accelerator": "GPU"
  },
  "cells": [
    {
      "cell_type": "code",
      "execution_count": null,
      "metadata": {
        "id": "JXvSmn0_NwdL"
      },
      "outputs": [],
      "source": [
        "!mkdir -p ~/.kaggle\n",
        "!cp kaggle.json ~/.kaggle/"
      ]
    },
    {
      "cell_type": "code",
      "source": [
        "! chmod 600 ~/.kaggle/kaggle.json"
      ],
      "metadata": {
        "id": "6Z_gG4piPkcs"
      },
      "execution_count": null,
      "outputs": []
    },
    {
      "cell_type": "code",
      "source": [
        "! kaggle datasets download -d ananthu017/emotion-detection-fer"
      ],
      "metadata": {
        "colab": {
          "base_uri": "https://localhost:8080/"
        },
        "id": "AesxQy1pPsm8",
        "outputId": "dae38f6d-58ae-495c-b86d-6c6f56987858"
      },
      "execution_count": null,
      "outputs": [
        {
          "output_type": "stream",
          "name": "stdout",
          "text": [
            "Downloading emotion-detection-fer.zip to /content\n",
            " 63% 41.0M/65.2M [00:00<00:00, 48.2MB/s]\n",
            "100% 65.2M/65.2M [00:00<00:00, 70.0MB/s]\n"
          ]
        }
      ]
    },
    {
      "cell_type": "code",
      "source": [
        "import zipfile\n",
        "zip_ref = zipfile.ZipFile('/content/emotion-detection-fer.zip', 'r')\n",
        "zip_ref.extractall('/content')\n",
        "zip_ref.close()  #unzipping the file and reading it"
      ],
      "metadata": {
        "id": "Qvfttgu7P0-6"
      },
      "execution_count": null,
      "outputs": []
    },
    {
      "cell_type": "code",
      "source": [
        "import numpy as np\n",
        "import pandas as pd\n",
        "import random\n",
        "import tensorflow as tf\n",
        "import os , cv2\n",
        "import matplotlib.pyplot as plt\n",
        "from sklearn.metrics import classification_report,confusion_matrix\n",
        "import keras\n",
        "from keras.models import Sequential\n",
        "from keras.layers import Convolution2D, MaxPooling2D, Flatten, Dense, Input, Dropout"
      ],
      "metadata": {
        "id": "QEZCIrRpQSGe"
      },
      "execution_count": null,
      "outputs": []
    },
    {
      "cell_type": "code",
      "source": [
        "train = '/content/train'\n",
        "label_list = os.listdir(train)\n",
        "\n",
        "print(label_list)"
      ],
      "metadata": {
        "colab": {
          "base_uri": "https://localhost:8080/"
        },
        "id": "ImMEMQ16VW6y",
        "outputId": "afd0b4d0-7002-4559-fbac-04ba361842df"
      },
      "execution_count": null,
      "outputs": [
        {
          "output_type": "stream",
          "name": "stdout",
          "text": [
            "['neutral', 'disgusted', 'happy', 'surprised', 'fearful', 'sad', 'angry']\n"
          ]
        }
      ]
    },
    {
      "cell_type": "markdown",
      "source": [
        "The Dataset has 7 classes"
      ],
      "metadata": {
        "id": "-0dXRkl7Y1B7"
      }
    },
    {
      "cell_type": "code",
      "source": [
        "# generators\n",
        "train= keras.utils.image_dataset_from_directory(\n",
        "    directory = '/content/train',\n",
        "    labels='inferred',\n",
        "    label_mode = 'categorical',\n",
        "    batch_size=32,\n",
        "    image_size=(256,256)\n",
        ")\n",
        "\n",
        "test= keras.utils.image_dataset_from_directory(\n",
        "    directory = '/content/test',\n",
        "    labels='inferred',\n",
        "    label_mode = 'categorical',\n",
        "    batch_size=32,\n",
        "    image_size=(256,256)\n",
        ")"
      ],
      "metadata": {
        "colab": {
          "base_uri": "https://localhost:8080/"
        },
        "id": "nNuQKB_cQkZe",
        "outputId": "7c8bffc9-c5cc-470e-f086-86bb3cca9c10"
      },
      "execution_count": null,
      "outputs": [
        {
          "output_type": "stream",
          "name": "stdout",
          "text": [
            "Found 28709 files belonging to 7 classes.\n",
            "Found 7178 files belonging to 7 classes.\n"
          ]
        }
      ]
    },
    {
      "cell_type": "code",
      "source": [
        "train"
      ],
      "metadata": {
        "colab": {
          "base_uri": "https://localhost:8080/"
        },
        "id": "cVnVI6xlQ0wX",
        "outputId": "084b419d-c9fb-4f96-b1f9-4ae9277baad8"
      },
      "execution_count": null,
      "outputs": [
        {
          "output_type": "execute_result",
          "data": {
            "text/plain": [
              "<_BatchDataset element_spec=(TensorSpec(shape=(None, 256, 256, 3), dtype=tf.float32, name=None), TensorSpec(shape=(None, 7), dtype=tf.float32, name=None))>"
            ]
          },
          "metadata": {},
          "execution_count": 8
        }
      ]
    },
    {
      "cell_type": "code",
      "source": [
        "test"
      ],
      "metadata": {
        "colab": {
          "base_uri": "https://localhost:8080/"
        },
        "id": "t0QbIQpwTTrr",
        "outputId": "70ba7cf5-d6c6-4f97-aa61-91da13a0b3a4"
      },
      "execution_count": null,
      "outputs": [
        {
          "output_type": "execute_result",
          "data": {
            "text/plain": [
              "<_BatchDataset element_spec=(TensorSpec(shape=(None, 256, 256, 3), dtype=tf.float32, name=None), TensorSpec(shape=(None, 7), dtype=tf.float32, name=None))>"
            ]
          },
          "metadata": {},
          "execution_count": 9
        }
      ]
    },
    {
      "cell_type": "code",
      "source": [
        "# Normalize the dataset by dividing the image pixel to 255. we can also use minmax scaler to normalize the data\n",
        "def process(image,label):\n",
        "    image = tf.cast(image/255. ,tf.float32) #here float is to print the reminder in float form\n",
        "    return image,label\n",
        "\n",
        "train= train.map(process)\n",
        "test= test.map(process)"
      ],
      "metadata": {
        "id": "1lmi7q0QQ8Hv"
      },
      "execution_count": null,
      "outputs": []
    },
    {
      "cell_type": "code",
      "source": [
        "from keras.layers import Dense,Conv2D,MaxPooling2D,Flatten,BatchNormalization,Dropout"
      ],
      "metadata": {
        "id": "iyyvmLyORAcs"
      },
      "execution_count": null,
      "outputs": []
    },
    {
      "cell_type": "markdown",
      "source": [
        "## Building CNN Model-1"
      ],
      "metadata": {
        "id": "7N_CY-DBZhB-"
      }
    },
    {
      "cell_type": "code",
      "source": [
        "# create CNN model\n",
        "\n",
        "num_classes=len(label_list)\n",
        "\n",
        "model1 = Sequential()\n",
        "\n",
        "model1.add(Conv2D(32,kernel_size=(3,3),padding='valid',activation='relu',input_shape=(256,256,3)))\n",
        "model1.add(BatchNormalization())\n",
        "model1.add(MaxPooling2D(pool_size=(2,2),strides=2,padding='valid'))\n",
        "\n",
        "model1.add(Conv2D(64,kernel_size=(3,3),padding='valid',activation='relu'))\n",
        "model1.add(BatchNormalization())\n",
        "model1.add(MaxPooling2D(pool_size=(2,2),strides=2,padding='valid'))\n",
        "\n",
        "model1.add(Conv2D(128,kernel_size=(3,3),padding='valid',activation='relu'))\n",
        "model1.add(BatchNormalization())\n",
        "model1.add(MaxPooling2D(pool_size=(2,2),strides=2,padding='valid'))\n",
        "\n",
        "\n",
        "model1.add(Flatten())\n",
        "model1.add(Dropout(0.3))\n",
        "model1.add(Dense(num_classes, activation=\"softmax\"))"
      ],
      "metadata": {
        "id": "IuPtLbRYRGEa"
      },
      "execution_count": null,
      "outputs": []
    },
    {
      "cell_type": "code",
      "source": [
        "model1.summary()"
      ],
      "metadata": {
        "colab": {
          "base_uri": "https://localhost:8080/"
        },
        "id": "OR8JwgCmRMtd",
        "outputId": "d93d007c-4430-447b-9a52-2680c1b9e882"
      },
      "execution_count": null,
      "outputs": [
        {
          "output_type": "stream",
          "name": "stdout",
          "text": [
            "Model: \"sequential\"\n",
            "_________________________________________________________________\n",
            " Layer (type)                Output Shape              Param #   \n",
            "=================================================================\n",
            " conv2d (Conv2D)             (None, 254, 254, 32)      896       \n",
            "                                                                 \n",
            " batch_normalization (Batch  (None, 254, 254, 32)      128       \n",
            " Normalization)                                                  \n",
            "                                                                 \n",
            " max_pooling2d (MaxPooling2  (None, 127, 127, 32)      0         \n",
            " D)                                                              \n",
            "                                                                 \n",
            " conv2d_1 (Conv2D)           (None, 125, 125, 64)      18496     \n",
            "                                                                 \n",
            " batch_normalization_1 (Bat  (None, 125, 125, 64)      256       \n",
            " chNormalization)                                                \n",
            "                                                                 \n",
            " max_pooling2d_1 (MaxPoolin  (None, 62, 62, 64)        0         \n",
            " g2D)                                                            \n",
            "                                                                 \n",
            " conv2d_2 (Conv2D)           (None, 60, 60, 128)       73856     \n",
            "                                                                 \n",
            " batch_normalization_2 (Bat  (None, 60, 60, 128)       512       \n",
            " chNormalization)                                                \n",
            "                                                                 \n",
            " max_pooling2d_2 (MaxPoolin  (None, 30, 30, 128)       0         \n",
            " g2D)                                                            \n",
            "                                                                 \n",
            " flatten (Flatten)           (None, 115200)            0         \n",
            "                                                                 \n",
            " dropout (Dropout)           (None, 115200)            0         \n",
            "                                                                 \n",
            " dense (Dense)               (None, 7)                 806407    \n",
            "                                                                 \n",
            "=================================================================\n",
            "Total params: 900551 (3.44 MB)\n",
            "Trainable params: 900103 (3.43 MB)\n",
            "Non-trainable params: 448 (1.75 KB)\n",
            "_________________________________________________________________\n"
          ]
        }
      ]
    },
    {
      "cell_type": "code",
      "source": [
        "from keras import callbacks # importing callbacks from keras to use early stopping\n",
        "\n",
        "callback= tf.keras.callbacks.EarlyStopping(monitor='loss', patience=5)\n",
        "#early stopping helps in stopping the running of epochs, when there is a best accuracy among them."
      ],
      "metadata": {
        "id": "RNr5lrWtRQfm"
      },
      "execution_count": null,
      "outputs": []
    },
    {
      "cell_type": "code",
      "source": [
        "model1.compile(optimizer='adam',loss='categorical_crossentropy',metrics=['accuracy'])"
      ],
      "metadata": {
        "id": "K7MiL-wu0AmQ"
      },
      "execution_count": null,
      "outputs": []
    },
    {
      "cell_type": "code",
      "source": [
        "history = model1.fit(train,epochs= 20,validation_data=test, callbacks=[callback])"
      ],
      "metadata": {
        "colab": {
          "base_uri": "https://localhost:8080/"
        },
        "id": "VmKpD59xSGl4",
        "outputId": "9f6ba692-5c95-40dc-e66f-118c752c58f6"
      },
      "execution_count": null,
      "outputs": [
        {
          "output_type": "stream",
          "name": "stdout",
          "text": [
            "Epoch 1/20\n",
            "898/898 [==============================] - 102s 99ms/step - loss: 13.3518 - accuracy: 0.2702 - val_loss: 7.6473 - val_accuracy: 0.3305\n",
            "Epoch 2/20\n",
            "898/898 [==============================] - 87s 96ms/step - loss: 4.7280 - accuracy: 0.3406 - val_loss: 2.3974 - val_accuracy: 0.3157\n",
            "Epoch 3/20\n",
            "898/898 [==============================] - 89s 98ms/step - loss: 1.6942 - accuracy: 0.4377 - val_loss: 1.6033 - val_accuracy: 0.3923\n",
            "Epoch 4/20\n",
            "898/898 [==============================] - 88s 98ms/step - loss: 1.3331 - accuracy: 0.5027 - val_loss: 1.5625 - val_accuracy: 0.4147\n",
            "Epoch 5/20\n",
            "898/898 [==============================] - 87s 96ms/step - loss: 1.2726 - accuracy: 0.5250 - val_loss: 1.4861 - val_accuracy: 0.4362\n",
            "Epoch 6/20\n",
            "898/898 [==============================] - 86s 95ms/step - loss: 1.2169 - accuracy: 0.5481 - val_loss: 1.5511 - val_accuracy: 0.4303\n",
            "Epoch 7/20\n",
            "898/898 [==============================] - 85s 95ms/step - loss: 1.1513 - accuracy: 0.5703 - val_loss: 1.4661 - val_accuracy: 0.4695\n",
            "Epoch 8/20\n",
            "898/898 [==============================] - 89s 99ms/step - loss: 1.0689 - accuracy: 0.6027 - val_loss: 1.6241 - val_accuracy: 0.4330\n",
            "Epoch 9/20\n",
            "898/898 [==============================] - 85s 95ms/step - loss: 0.9599 - accuracy: 0.6437 - val_loss: 1.6643 - val_accuracy: 0.4597\n",
            "Epoch 10/20\n",
            "898/898 [==============================] - 86s 96ms/step - loss: 0.8345 - accuracy: 0.6942 - val_loss: 1.9892 - val_accuracy: 0.4369\n",
            "Epoch 11/20\n",
            "898/898 [==============================] - 86s 96ms/step - loss: 0.7351 - accuracy: 0.7298 - val_loss: 2.1421 - val_accuracy: 0.4337\n",
            "Epoch 12/20\n",
            "898/898 [==============================] - 87s 96ms/step - loss: 0.6460 - accuracy: 0.7633 - val_loss: 2.0651 - val_accuracy: 0.4652\n",
            "Epoch 13/20\n",
            "898/898 [==============================] - 89s 99ms/step - loss: 0.5708 - accuracy: 0.7908 - val_loss: 2.9711 - val_accuracy: 0.3491\n",
            "Epoch 14/20\n",
            "898/898 [==============================] - 89s 98ms/step - loss: 0.5402 - accuracy: 0.8051 - val_loss: 2.1284 - val_accuracy: 0.4680\n",
            "Epoch 15/20\n",
            "898/898 [==============================] - 89s 99ms/step - loss: 0.4935 - accuracy: 0.8195 - val_loss: 2.2162 - val_accuracy: 0.4641\n",
            "Epoch 16/20\n",
            "898/898 [==============================] - 86s 95ms/step - loss: 0.4282 - accuracy: 0.8446 - val_loss: 2.4515 - val_accuracy: 0.4719\n",
            "Epoch 17/20\n",
            "898/898 [==============================] - 85s 95ms/step - loss: 0.3950 - accuracy: 0.8580 - val_loss: 2.7238 - val_accuracy: 0.4627\n",
            "Epoch 18/20\n",
            "898/898 [==============================] - 89s 98ms/step - loss: 0.3720 - accuracy: 0.8657 - val_loss: 2.3328 - val_accuracy: 0.4539\n",
            "Epoch 19/20\n",
            "898/898 [==============================] - 89s 99ms/step - loss: 0.3469 - accuracy: 0.8759 - val_loss: 2.6693 - val_accuracy: 0.4497\n",
            "Epoch 20/20\n",
            "898/898 [==============================] - 88s 98ms/step - loss: 0.3198 - accuracy: 0.8863 - val_loss: 3.3812 - val_accuracy: 0.4519\n"
          ]
        }
      ]
    },
    {
      "cell_type": "code",
      "source": [
        "import matplotlib.pyplot as plt\n",
        "\n",
        "plt.plot(history.history['accuracy'],color='red',label='train')\n",
        "plt.plot(history.history['val_accuracy'],color='blue',label='test')\n",
        "plt.legend()\n",
        "plt.show()"
      ],
      "metadata": {
        "colab": {
          "base_uri": "https://localhost:8080/",
          "height": 430
        },
        "id": "xjlBm5MTSQu9",
        "outputId": "a5fa44cb-3732-4eca-adab-8bba0094512b"
      },
      "execution_count": null,
      "outputs": [
        {
          "output_type": "display_data",
          "data": {
            "text/plain": [
              "<Figure size 640x480 with 1 Axes>"
            ],
            "image/png": "[encoded data removed]"
          },
          "metadata": {}
        }
      ]
    },
    {
      "cell_type": "code",
      "source": [
        "plt.plot(history.history['loss'],color='red',label='train')\n",
        "plt.plot(history.history['val_loss'],color='blue',label='validation')\n",
        "plt.legend()\n",
        "plt.show()"
      ],
      "metadata": {
        "colab": {
          "base_uri": "https://localhost:8080/",
          "height": 435
        },
        "id": "EbIkhoXC-Fn8",
        "outputId": "1548595d-1ed9-40d9-de6b-4a9eafe866b3"
      },
      "execution_count": null,
      "outputs": [
        {
          "output_type": "display_data",
          "data": {
            "text/plain": [
              "<Figure size 640x480 with 1 Axes>"
            ],
            "image/png": "[encoded data removed]"
          },
          "metadata": {}
        }
      ]
    },
    {
      "cell_type": "markdown",
      "source": [
        "## Evaluate the final model on the test set"
      ],
      "metadata": {
        "id": "F8WfpsgkCnng"
      }
    },
    {
      "cell_type": "code",
      "source": [
        "loss, accuracy = model2.evaluate(test_data)\n",
        "\n",
        "# Print the loss and accuracy\n",
        "print(\"Loss: \", loss)\n",
        "print(\"Accuracy: \", accuracy)"
      ],
      "metadata": {
        "colab": {
          "base_uri": "https://localhost:8080/"
        },
        "id": "Fm8zMU8BCqXE",
        "outputId": "b83e6d84-ec37-4945-aeab-1dcc092038b7"
      },
      "execution_count": null,
      "outputs": [
        {
          "output_type": "stream",
          "name": "stdout",
          "text": [
            "225/225 [==============================] - 3s 13ms/step - loss: 1.0368 - accuracy: 0.6156\n",
            "Loss:  1.0368489027023315\n",
            "Accuracy:  0.615631103515625\n"
          ]
        }
      ]
    },
    {
      "cell_type": "code",
      "source": [
        "im_path = \"/content/test/angry/im112.png\"\n",
        "img = tf.keras.utils.load_img(\n",
        "    im_path, target_size=(img_height, img_width)\n",
        ")\n",
        "print(img.size)\n",
        "img_array = tf.keras.utils.img_to_array(img)\n",
        "img_array = tf.expand_dims(img_array, 0) # Create a batch\n",
        "print(img_array.shape)\n",
        "predictions = model2.predict(img_array)\n",
        "score = tf.nn.softmax(predictions[0])\n",
        "\n",
        "print(\n",
        "    \"This image most likely belongs to {} with a {:.2f} percent confidence.\"\n",
        "    .format(label_list[np.argmax(score)], 100 * np.max(score))\n",
        ")"
      ],
      "metadata": {
        "id": "1gdypayo5VaX",
        "colab": {
          "base_uri": "https://localhost:8080/"
        },
        "outputId": "a8a1489c-54eb-436e-f81d-9dce9966983d"
      },
      "execution_count": null,
      "outputs": [
        {
          "output_type": "stream",
          "name": "stdout",
          "text": [
            "(48, 48)\n",
            "(1, 48, 48, 3)\n",
            "1/1 [==============================] - 0s 21ms/step\n",
            "This image most likely belongs to angry with a 31.18 percent confidence.\n"
          ]
        }
      ]
    }
  ]
}